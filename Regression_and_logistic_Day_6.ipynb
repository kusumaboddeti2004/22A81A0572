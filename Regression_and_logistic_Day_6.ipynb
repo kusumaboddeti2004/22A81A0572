{
  "nbformat": 4,
  "nbformat_minor": 0,
  "metadata": {
    "colab": {
      "provenance": [],
      "authorship_tag": "ABX9TyPYAVLcL68mt6sTDu886mNs",
      "include_colab_link": true
    },
    "kernelspec": {
      "name": "python3",
      "display_name": "Python 3"
    },
    "language_info": {
      "name": "python"
    }
  },
  "cells": [
    {
      "cell_type": "markdown",
      "metadata": {
        "id": "view-in-github",
        "colab_type": "text"
      },
      "source": [
        "<a href=\"https://colab.research.google.com/github/kusumaboddeti2004/22A81A0572/blob/main/Regression_and_logistic_Day_6.ipynb\" target=\"_parent\"><img src=\"https://colab.research.google.com/assets/colab-badge.svg\" alt=\"Open In Colab\"/></a>"
      ]
    },
    {
      "cell_type": "markdown",
      "source": [
        "Regression\n",
        "\n",
        "\n",
        "*   Algorithm is called as models\n",
        "*   Training process is called as fit\n",
        "\n"
      ],
      "metadata": {
        "id": "KfmlA-3UjT-U"
      }
    },
    {
      "cell_type": "code",
      "source": [
        "from sklearn.linear_model import LinearRegression\n",
        "LR=LinearRegression()"
      ],
      "metadata": {
        "id": "lg0j1ubCksNv"
      },
      "execution_count": null,
      "outputs": []
    },
    {
      "cell_type": "code",
      "source": [
        "t=[[5],[7],[12],[16],[20]] #time independent 2D array\n",
        "m=[40,120,180,210,240]     #mass dependent 1D array\n",
        "LR.fit(t,m)  #fitting data"
      ],
      "metadata": {
        "colab": {
          "base_uri": "https://localhost:8080/",
          "height": 74
        },
        "id": "xjc3kaatlKjy",
        "outputId": "7f32e305-c9d2-4124-99e2-11de6ac84fde"
      },
      "execution_count": null,
      "outputs": [
        {
          "output_type": "execute_result",
          "data": {
            "text/plain": [
              "LinearRegression()"
            ],
            "text/html": [
              "<style>#sk-container-id-1 {color: black;background-color: white;}#sk-container-id-1 pre{padding: 0;}#sk-container-id-1 div.sk-toggleable {background-color: white;}#sk-container-id-1 label.sk-toggleable__label {cursor: pointer;display: block;width: 100%;margin-bottom: 0;padding: 0.3em;box-sizing: border-box;text-align: center;}#sk-container-id-1 label.sk-toggleable__label-arrow:before {content: \"▸\";float: left;margin-right: 0.25em;color: #696969;}#sk-container-id-1 label.sk-toggleable__label-arrow:hover:before {color: black;}#sk-container-id-1 div.sk-estimator:hover label.sk-toggleable__label-arrow:before {color: black;}#sk-container-id-1 div.sk-toggleable__content {max-height: 0;max-width: 0;overflow: hidden;text-align: left;background-color: #f0f8ff;}#sk-container-id-1 div.sk-toggleable__content pre {margin: 0.2em;color: black;border-radius: 0.25em;background-color: #f0f8ff;}#sk-container-id-1 input.sk-toggleable__control:checked~div.sk-toggleable__content {max-height: 200px;max-width: 100%;overflow: auto;}#sk-container-id-1 input.sk-toggleable__control:checked~label.sk-toggleable__label-arrow:before {content: \"▾\";}#sk-container-id-1 div.sk-estimator input.sk-toggleable__control:checked~label.sk-toggleable__label {background-color: #d4ebff;}#sk-container-id-1 div.sk-label input.sk-toggleable__control:checked~label.sk-toggleable__label {background-color: #d4ebff;}#sk-container-id-1 input.sk-hidden--visually {border: 0;clip: rect(1px 1px 1px 1px);clip: rect(1px, 1px, 1px, 1px);height: 1px;margin: -1px;overflow: hidden;padding: 0;position: absolute;width: 1px;}#sk-container-id-1 div.sk-estimator {font-family: monospace;background-color: #f0f8ff;border: 1px dotted black;border-radius: 0.25em;box-sizing: border-box;margin-bottom: 0.5em;}#sk-container-id-1 div.sk-estimator:hover {background-color: #d4ebff;}#sk-container-id-1 div.sk-parallel-item::after {content: \"\";width: 100%;border-bottom: 1px solid gray;flex-grow: 1;}#sk-container-id-1 div.sk-label:hover label.sk-toggleable__label {background-color: #d4ebff;}#sk-container-id-1 div.sk-serial::before {content: \"\";position: absolute;border-left: 1px solid gray;box-sizing: border-box;top: 0;bottom: 0;left: 50%;z-index: 0;}#sk-container-id-1 div.sk-serial {display: flex;flex-direction: column;align-items: center;background-color: white;padding-right: 0.2em;padding-left: 0.2em;position: relative;}#sk-container-id-1 div.sk-item {position: relative;z-index: 1;}#sk-container-id-1 div.sk-parallel {display: flex;align-items: stretch;justify-content: center;background-color: white;position: relative;}#sk-container-id-1 div.sk-item::before, #sk-container-id-1 div.sk-parallel-item::before {content: \"\";position: absolute;border-left: 1px solid gray;box-sizing: border-box;top: 0;bottom: 0;left: 50%;z-index: -1;}#sk-container-id-1 div.sk-parallel-item {display: flex;flex-direction: column;z-index: 1;position: relative;background-color: white;}#sk-container-id-1 div.sk-parallel-item:first-child::after {align-self: flex-end;width: 50%;}#sk-container-id-1 div.sk-parallel-item:last-child::after {align-self: flex-start;width: 50%;}#sk-container-id-1 div.sk-parallel-item:only-child::after {width: 0;}#sk-container-id-1 div.sk-dashed-wrapped {border: 1px dashed gray;margin: 0 0.4em 0.5em 0.4em;box-sizing: border-box;padding-bottom: 0.4em;background-color: white;}#sk-container-id-1 div.sk-label label {font-family: monospace;font-weight: bold;display: inline-block;line-height: 1.2em;}#sk-container-id-1 div.sk-label-container {text-align: center;}#sk-container-id-1 div.sk-container {/* jupyter's `normalize.less` sets `[hidden] { display: none; }` but bootstrap.min.css set `[hidden] { display: none !important; }` so we also need the `!important` here to be able to override the default hidden behavior on the sphinx rendered scikit-learn.org. See: https://github.com/scikit-learn/scikit-learn/issues/21755 */display: inline-block !important;position: relative;}#sk-container-id-1 div.sk-text-repr-fallback {display: none;}</style><div id=\"sk-container-id-1\" class=\"sk-top-container\"><div class=\"sk-text-repr-fallback\"><pre>LinearRegression()</pre><b>In a Jupyter environment, please rerun this cell to show the HTML representation or trust the notebook. <br />On GitHub, the HTML representation is unable to render, please try loading this page with nbviewer.org.</b></div><div class=\"sk-container\" hidden><div class=\"sk-item\"><div class=\"sk-estimator sk-toggleable\"><input class=\"sk-toggleable__control sk-hidden--visually\" id=\"sk-estimator-id-1\" type=\"checkbox\" checked><label for=\"sk-estimator-id-1\" class=\"sk-toggleable__label sk-toggleable__label-arrow\">LinearRegression</label><div class=\"sk-toggleable__content\"><pre>LinearRegression()</pre></div></div></div></div></div>"
            ]
          },
          "metadata": {},
          "execution_count": 2
        }
      ]
    },
    {
      "cell_type": "code",
      "source": [
        "LR.predict([[5.5]])  #testing data"
      ],
      "metadata": {
        "colab": {
          "base_uri": "https://localhost:8080/"
        },
        "id": "wp0FfsY3lo1t",
        "outputId": "20531e5a-2da4-4d3d-ddf4-c4eefce01858"
      },
      "execution_count": null,
      "outputs": [
        {
          "output_type": "execute_result",
          "data": {
            "text/plain": [
              "array([78.64935065])"
            ]
          },
          "metadata": {},
          "execution_count": 12
        }
      ]
    },
    {
      "cell_type": "code",
      "source": [
        "LR.predict([[18]])"
      ],
      "metadata": {
        "colab": {
          "base_uri": "https://localhost:8080/"
        },
        "id": "g-07ogaQlvPg",
        "outputId": "f56f5ae9-0a38-4062-bd6b-a5c809372c3f"
      },
      "execution_count": null,
      "outputs": [
        {
          "output_type": "execute_result",
          "data": {
            "text/plain": [
              "array([231.24675325])"
            ]
          },
          "metadata": {},
          "execution_count": 5
        }
      ]
    },
    {
      "cell_type": "markdown",
      "source": [
        "Logistic Regression:\n",
        "\n",
        "\n",
        "*   Used for Binary Classification --- labels are only 2\n",
        "*   Supervised learning Algorithm\n",
        "\n"
      ],
      "metadata": {
        "id": "jygilu2Sn28n"
      }
    },
    {
      "cell_type": "code",
      "source": [
        "import numpy as np\n",
        "from sklearn.linear_model import LogisticRegression"
      ],
      "metadata": {
        "id": "Xt4hMrxyyXhz"
      },
      "execution_count": null,
      "outputs": []
    },
    {
      "cell_type": "code",
      "source": [
        "#Distance and corresponding probability data\n",
        "distance=np.array([1,2,5,10,15,20,21,22,23,24,25,26,27,28,29,30,35,40,41,47,50]).reshape(-1,1)\n",
        "probabilities=np.array([1,1,1,1,1,1,0.9,0.85,0.73,0.67,0.5,0.47,0.39,0.31,0.25,0.15,0,0,0,0,0])\n",
        "\n",
        "#convert probabilities to binary labels\n",
        "threshold=0.5\n",
        "binary_labels=(probabilities > threshold).astype(int)\n",
        "\n",
        "#create and fit logistic regression model\n",
        "logr=LogisticRegression()\n",
        "logr.fit(distance,binary_labels)"
      ],
      "metadata": {
        "colab": {
          "base_uri": "https://localhost:8080/",
          "height": 74
        },
        "id": "WGzsm7dRzeub",
        "outputId": "825c1f15-e90a-4e4e-cb66-390a5f5d6a94"
      },
      "execution_count": null,
      "outputs": [
        {
          "output_type": "execute_result",
          "data": {
            "text/plain": [
              "LogisticRegression()"
            ],
            "text/html": [
              "<style>#sk-container-id-4 {color: black;background-color: white;}#sk-container-id-4 pre{padding: 0;}#sk-container-id-4 div.sk-toggleable {background-color: white;}#sk-container-id-4 label.sk-toggleable__label {cursor: pointer;display: block;width: 100%;margin-bottom: 0;padding: 0.3em;box-sizing: border-box;text-align: center;}#sk-container-id-4 label.sk-toggleable__label-arrow:before {content: \"▸\";float: left;margin-right: 0.25em;color: #696969;}#sk-container-id-4 label.sk-toggleable__label-arrow:hover:before {color: black;}#sk-container-id-4 div.sk-estimator:hover label.sk-toggleable__label-arrow:before {color: black;}#sk-container-id-4 div.sk-toggleable__content {max-height: 0;max-width: 0;overflow: hidden;text-align: left;background-color: #f0f8ff;}#sk-container-id-4 div.sk-toggleable__content pre {margin: 0.2em;color: black;border-radius: 0.25em;background-color: #f0f8ff;}#sk-container-id-4 input.sk-toggleable__control:checked~div.sk-toggleable__content {max-height: 200px;max-width: 100%;overflow: auto;}#sk-container-id-4 input.sk-toggleable__control:checked~label.sk-toggleable__label-arrow:before {content: \"▾\";}#sk-container-id-4 div.sk-estimator input.sk-toggleable__control:checked~label.sk-toggleable__label {background-color: #d4ebff;}#sk-container-id-4 div.sk-label input.sk-toggleable__control:checked~label.sk-toggleable__label {background-color: #d4ebff;}#sk-container-id-4 input.sk-hidden--visually {border: 0;clip: rect(1px 1px 1px 1px);clip: rect(1px, 1px, 1px, 1px);height: 1px;margin: -1px;overflow: hidden;padding: 0;position: absolute;width: 1px;}#sk-container-id-4 div.sk-estimator {font-family: monospace;background-color: #f0f8ff;border: 1px dotted black;border-radius: 0.25em;box-sizing: border-box;margin-bottom: 0.5em;}#sk-container-id-4 div.sk-estimator:hover {background-color: #d4ebff;}#sk-container-id-4 div.sk-parallel-item::after {content: \"\";width: 100%;border-bottom: 1px solid gray;flex-grow: 1;}#sk-container-id-4 div.sk-label:hover label.sk-toggleable__label {background-color: #d4ebff;}#sk-container-id-4 div.sk-serial::before {content: \"\";position: absolute;border-left: 1px solid gray;box-sizing: border-box;top: 0;bottom: 0;left: 50%;z-index: 0;}#sk-container-id-4 div.sk-serial {display: flex;flex-direction: column;align-items: center;background-color: white;padding-right: 0.2em;padding-left: 0.2em;position: relative;}#sk-container-id-4 div.sk-item {position: relative;z-index: 1;}#sk-container-id-4 div.sk-parallel {display: flex;align-items: stretch;justify-content: center;background-color: white;position: relative;}#sk-container-id-4 div.sk-item::before, #sk-container-id-4 div.sk-parallel-item::before {content: \"\";position: absolute;border-left: 1px solid gray;box-sizing: border-box;top: 0;bottom: 0;left: 50%;z-index: -1;}#sk-container-id-4 div.sk-parallel-item {display: flex;flex-direction: column;z-index: 1;position: relative;background-color: white;}#sk-container-id-4 div.sk-parallel-item:first-child::after {align-self: flex-end;width: 50%;}#sk-container-id-4 div.sk-parallel-item:last-child::after {align-self: flex-start;width: 50%;}#sk-container-id-4 div.sk-parallel-item:only-child::after {width: 0;}#sk-container-id-4 div.sk-dashed-wrapped {border: 1px dashed gray;margin: 0 0.4em 0.5em 0.4em;box-sizing: border-box;padding-bottom: 0.4em;background-color: white;}#sk-container-id-4 div.sk-label label {font-family: monospace;font-weight: bold;display: inline-block;line-height: 1.2em;}#sk-container-id-4 div.sk-label-container {text-align: center;}#sk-container-id-4 div.sk-container {/* jupyter's `normalize.less` sets `[hidden] { display: none; }` but bootstrap.min.css set `[hidden] { display: none !important; }` so we also need the `!important` here to be able to override the default hidden behavior on the sphinx rendered scikit-learn.org. See: https://github.com/scikit-learn/scikit-learn/issues/21755 */display: inline-block !important;position: relative;}#sk-container-id-4 div.sk-text-repr-fallback {display: none;}</style><div id=\"sk-container-id-4\" class=\"sk-top-container\"><div class=\"sk-text-repr-fallback\"><pre>LogisticRegression()</pre><b>In a Jupyter environment, please rerun this cell to show the HTML representation or trust the notebook. <br />On GitHub, the HTML representation is unable to render, please try loading this page with nbviewer.org.</b></div><div class=\"sk-container\" hidden><div class=\"sk-item\"><div class=\"sk-estimator sk-toggleable\"><input class=\"sk-toggleable__control sk-hidden--visually\" id=\"sk-estimator-id-4\" type=\"checkbox\" checked><label for=\"sk-estimator-id-4\" class=\"sk-toggleable__label sk-toggleable__label-arrow\">LogisticRegression</label><div class=\"sk-toggleable__content\"><pre>LogisticRegression()</pre></div></div></div></div></div>"
            ]
          },
          "metadata": {},
          "execution_count": 26
        }
      ]
    },
    {
      "cell_type": "code",
      "source": [
        "p=logr.predict([[21]]) #distance\n",
        "print(p)"
      ],
      "metadata": {
        "colab": {
          "base_uri": "https://localhost:8080/"
        },
        "id": "sLzpmCSO0YkX",
        "outputId": "d9aaf397-36f3-4140-952b-37caab051fa5"
      },
      "execution_count": null,
      "outputs": [
        {
          "output_type": "stream",
          "name": "stdout",
          "text": [
            "[1]\n"
          ]
        }
      ]
    },
    {
      "cell_type": "code",
      "source": [
        "if p==[1]:\n",
        "  print(\"Goal\")\n",
        "else:\n",
        "  print(\"Not a Goal\")"
      ],
      "metadata": {
        "colab": {
          "base_uri": "https://localhost:8080/"
        },
        "id": "bH_rIyzt2dRB",
        "outputId": "ad62a8cf-37b7-4a93-f00f-0f3190a88447"
      },
      "execution_count": null,
      "outputs": [
        {
          "output_type": "stream",
          "name": "stdout",
          "text": [
            "Goal\n"
          ]
        }
      ]
    },
    {
      "cell_type": "code",
      "source": [
        "#predict 100 distance between 1 and 50\n",
        "#Generate distances for prediction\n",
        "dist=np.linspace(1,50,100).reshape(-1,1)\n",
        "print(dist)  #distance\n",
        "#main prediction using the model\n",
        "import matplotlib.pyplot as plt\n",
        "prob=logr.predict_proba(dist)\n",
        "print(prob)"
      ],
      "metadata": {
        "colab": {
          "base_uri": "https://localhost:8080/"
        },
        "id": "nVC6HZQg4ogw",
        "outputId": "e93c64eb-7bda-4b1d-d54f-950b2990f562"
      },
      "execution_count": null,
      "outputs": [
        {
          "output_type": "stream",
          "name": "stdout",
          "text": [
            "[[ 1.        ]\n",
            " [ 1.49494949]\n",
            " [ 1.98989899]\n",
            " [ 2.48484848]\n",
            " [ 2.97979798]\n",
            " [ 3.47474747]\n",
            " [ 3.96969697]\n",
            " [ 4.46464646]\n",
            " [ 4.95959596]\n",
            " [ 5.45454545]\n",
            " [ 5.94949495]\n",
            " [ 6.44444444]\n",
            " [ 6.93939394]\n",
            " [ 7.43434343]\n",
            " [ 7.92929293]\n",
            " [ 8.42424242]\n",
            " [ 8.91919192]\n",
            " [ 9.41414141]\n",
            " [ 9.90909091]\n",
            " [10.4040404 ]\n",
            " [10.8989899 ]\n",
            " [11.39393939]\n",
            " [11.88888889]\n",
            " [12.38383838]\n",
            " [12.87878788]\n",
            " [13.37373737]\n",
            " [13.86868687]\n",
            " [14.36363636]\n",
            " [14.85858586]\n",
            " [15.35353535]\n",
            " [15.84848485]\n",
            " [16.34343434]\n",
            " [16.83838384]\n",
            " [17.33333333]\n",
            " [17.82828283]\n",
            " [18.32323232]\n",
            " [18.81818182]\n",
            " [19.31313131]\n",
            " [19.80808081]\n",
            " [20.3030303 ]\n",
            " [20.7979798 ]\n",
            " [21.29292929]\n",
            " [21.78787879]\n",
            " [22.28282828]\n",
            " [22.77777778]\n",
            " [23.27272727]\n",
            " [23.76767677]\n",
            " [24.26262626]\n",
            " [24.75757576]\n",
            " [25.25252525]\n",
            " [25.74747475]\n",
            " [26.24242424]\n",
            " [26.73737374]\n",
            " [27.23232323]\n",
            " [27.72727273]\n",
            " [28.22222222]\n",
            " [28.71717172]\n",
            " [29.21212121]\n",
            " [29.70707071]\n",
            " [30.2020202 ]\n",
            " [30.6969697 ]\n",
            " [31.19191919]\n",
            " [31.68686869]\n",
            " [32.18181818]\n",
            " [32.67676768]\n",
            " [33.17171717]\n",
            " [33.66666667]\n",
            " [34.16161616]\n",
            " [34.65656566]\n",
            " [35.15151515]\n",
            " [35.64646465]\n",
            " [36.14141414]\n",
            " [36.63636364]\n",
            " [37.13131313]\n",
            " [37.62626263]\n",
            " [38.12121212]\n",
            " [38.61616162]\n",
            " [39.11111111]\n",
            " [39.60606061]\n",
            " [40.1010101 ]\n",
            " [40.5959596 ]\n",
            " [41.09090909]\n",
            " [41.58585859]\n",
            " [42.08080808]\n",
            " [42.57575758]\n",
            " [43.07070707]\n",
            " [43.56565657]\n",
            " [44.06060606]\n",
            " [44.55555556]\n",
            " [45.05050505]\n",
            " [45.54545455]\n",
            " [46.04040404]\n",
            " [46.53535354]\n",
            " [47.03030303]\n",
            " [47.52525253]\n",
            " [48.02020202]\n",
            " [48.51515152]\n",
            " [49.01010101]\n",
            " [49.50505051]\n",
            " [50.        ]]\n",
            "[[7.36521955e-13 1.00000000e+00]\n",
            " [1.32649447e-12 1.00000000e+00]\n",
            " [2.38919995e-12 1.00000000e+00]\n",
            " [4.30344649e-12 1.00000000e+00]\n",
            " [7.75135511e-12 1.00000000e+00]\n",
            " [1.39614986e-11 1.00000000e+00]\n",
            " [2.51469956e-11 1.00000000e+00]\n",
            " [4.52937687e-11 1.00000000e+00]\n",
            " [8.15814083e-11 1.00000000e+00]\n",
            " [1.46941792e-10 1.00000000e+00]\n",
            " [2.64666289e-10 1.00000000e+00]\n",
            " [4.76707784e-10 1.00000000e+00]\n",
            " [8.58629612e-10 9.99999999e-01]\n",
            " [1.54653357e-09 9.99999998e-01]\n",
            " [2.78556245e-09 9.99999997e-01]\n",
            " [5.01725839e-09 9.99999995e-01]\n",
            " [9.03691089e-09 9.99999991e-01]\n",
            " [1.62769695e-08 9.99999984e-01]\n",
            " [2.93175104e-08 9.99999971e-01]\n",
            " [5.28056784e-08 9.99999947e-01]\n",
            " [9.51117461e-08 9.99999905e-01]\n",
            " [1.71311954e-07 9.99999829e-01]\n",
            " [3.08561086e-07 9.99999691e-01]\n",
            " [5.55769353e-07 9.99999444e-01]\n",
            " [1.00103197e-06 9.99998999e-01]\n",
            " [1.80302250e-06 9.99998197e-01]\n",
            " [3.24753669e-06 9.99996752e-01]\n",
            " [5.84933484e-06 9.99994151e-01]\n",
            " [1.05355690e-05 9.99989464e-01]\n",
            " [1.89761400e-05 9.99981024e-01]\n",
            " [3.41786433e-05 9.99965821e-01]\n",
            " [6.15596971e-05 9.99938440e-01]\n",
            " [1.10873716e-04 9.99889126e-01]\n",
            " [1.99684141e-04 9.99800316e-01]\n",
            " [3.59606595e-04 9.99640393e-01]\n",
            " [6.47524328e-04 9.99352476e-01]\n",
            " [1.16569355e-03 9.98834306e-01]\n",
            " [2.09764764e-03 9.97902352e-01]\n",
            " [3.77187106e-03 9.96228129e-01]\n",
            " [6.77329472e-03 9.93226705e-01]\n",
            " [1.21339773e-02 9.87866023e-01]\n",
            " [2.16448809e-02 9.78355119e-01]\n",
            " [3.83214687e-02 9.61678531e-01]\n",
            " [6.69672780e-02 9.33032722e-01]\n",
            " [1.14477216e-01 8.85522784e-01]\n",
            " [1.88870123e-01 8.11129877e-01]\n",
            " [2.95475997e-01 7.04524003e-01]\n",
            " [4.30330951e-01 5.69669049e-01]\n",
            " [5.76380595e-01 4.23619405e-01]\n",
            " [7.10202259e-01 2.89797741e-01]\n",
            " [8.15296551e-01 1.84703449e-01]\n",
            " [8.88274330e-01 1.11725670e-01]\n",
            " [9.34726505e-01 6.52734947e-02]\n",
            " [9.62676767e-01 3.73232326e-02]\n",
            " [9.78928465e-01 2.10715348e-02]\n",
            " [9.88190478e-01 1.18095223e-02]\n",
            " [9.93408775e-01 6.59122462e-03]\n",
            " [9.96329817e-01 3.67018284e-03]\n",
            " [9.97958997e-01 2.04100338e-03]\n",
            " [9.98865813e-01 1.13418691e-03]\n",
            " [9.99369986e-01 6.30014050e-04]\n",
            " [9.99650121e-01 3.49879429e-04]\n",
            " [9.99805718e-01 1.94281951e-04]\n",
            " [9.99892126e-01 1.07873915e-04]\n",
            " [9.99940106e-01 5.98940572e-05]\n",
            " [9.99966746e-01 3.32538365e-05]\n",
            " [9.99981537e-01 1.84626754e-05]\n",
            " [9.99989750e-01 1.02504906e-05]\n",
            " [9.99994309e-01 5.69105898e-06]\n",
            " [9.99996840e-01 3.15966209e-06]\n",
            " [9.99998246e-01 1.75423472e-06]\n",
            " [9.99999026e-01 9.73945141e-07]\n",
            " [9.99999459e-01 5.40730836e-07]\n",
            " [9.99999700e-01 3.00211755e-07]\n",
            " [9.99999833e-01 1.66676436e-07]\n",
            " [9.99999907e-01 9.25381239e-08]\n",
            " [9.99999949e-01 5.13768131e-08]\n",
            " [9.99999971e-01 2.85242100e-08]\n",
            " [9.99999984e-01 1.58365320e-08]\n",
            " [9.99999991e-01 8.79238183e-09]\n",
            " [9.99999995e-01 4.88149664e-09]\n",
            " [9.99999997e-01 2.71018819e-09]\n",
            " [9.99999998e-01 1.50468608e-09]\n",
            " [9.99999999e-01 8.35395932e-10]\n",
            " [1.00000000e+00 4.63808613e-10]\n",
            " [1.00000000e+00 2.57504761e-10]\n",
            " [1.00000000e+00 1.42965654e-10]\n",
            " [1.00000000e+00 7.93739822e-11]\n",
            " [1.00000000e+00 4.40681301e-11]\n",
            " [1.00000000e+00 2.44664566e-11]\n",
            " [1.00000000e+00 1.35836827e-11]\n",
            " [1.00000000e+00 7.54160848e-12]\n",
            " [1.00000000e+00 4.18707206e-12]\n",
            " [1.00000000e+00 2.32464633e-12]\n",
            " [1.00000000e+00 1.29063471e-12]\n",
            " [1.00000000e+00 7.16555436e-13]\n",
            " [1.00000000e+00 3.97828826e-13]\n",
            " [1.00000000e+00 2.20873036e-13]\n",
            " [1.00000000e+00 1.22627861e-13]\n",
            " [1.00000000e+00 6.80825177e-14]]\n"
          ]
        }
      ]
    },
    {
      "cell_type": "code",
      "source": [
        "#plotting actual data _train\n",
        "plt.scatter(distance,binary_labels,color=\"black\",label='Data')\n",
        "#plotting test data with predictions-valid/test\n",
        "plt.plot(dist,prob,color='blue',label='Logistic Regression')\n",
        "plt.title('Distance vs probability of scoring a goal')\n",
        "plt.xlabel('Distance')\n",
        "plt.ylabel('Probability')\n",
        "plt.legend()\n",
        "plt.grid(True)\n",
        "plt.show()"
      ],
      "metadata": {
        "colab": {
          "base_uri": "https://localhost:8080/",
          "height": 472
        },
        "id": "W7lJFs9Q7IRR",
        "outputId": "86e23b75-650b-4082-ef65-1f8e13305b9f"
      },
      "execution_count": null,
      "outputs": [
        {
          "output_type": "display_data",
          "data": {
            "text/plain": [
              "<Figure size 640x480 with 1 Axes>"
            ],
            "image/png": "[encoded data removed]"
          },
          "metadata": {}
        }
      ]
    },
    {
      "cell_type": "code",
      "source": [
        "from sklearn.tree import DecisionTreeClassifier"
      ],
      "metadata": {
        "id": "Ud41cTNtbyC-"
      },
      "execution_count": null,
      "outputs": []
    },
    {
      "cell_type": "code",
      "source": [
        "import pandas as pd\n",
        "df=pd.read_csv(\"/content/demodt.txt\")\n",
        "print(df)"
      ],
      "metadata": {
        "colab": {
          "base_uri": "https://localhost:8080/"
        },
        "id": "Oo_jp4gWNK2H",
        "outputId": "5ac293a2-93c2-4995-ffe5-99c9a9bdf9d0"
      },
      "execution_count": null,
      "outputs": [
        {
          "output_type": "stream",
          "name": "stdout",
          "text": [
            "   State  Literacy  Cleanliness  Crime_Rate  Good\n",
            "0      A        92           90          54     0\n",
            "1      B        56           67          50     1\n",
            "2      C        78           85          62     0\n",
            "3      D        63           72          48     1\n",
            "4      E        85           79          55     0\n",
            "5      F        71           68          58     0\n",
            "6      G        80           83          51     0\n",
            "7      H        67           74          47     1\n",
            "8      I        89           88          53     0\n",
            "9      J        58           65          49     1\n",
            "10     K        82           81          60     0\n",
            "11     L        75           78          57     0\n",
            "12     M        69           70          46     1\n",
            "13     N        87           86          52     0\n",
            "14     O        61           63          45     1\n",
            "15     P        93           91          56     0\n",
            "16     Q        55           66          61     0\n",
            "17     R        76           77          59     0\n",
            "18     S        84           82          44     1\n",
            "19     T        70           69          50     1\n",
            "20     U        94           92          57     0\n",
            "21     V        59           64          52     0\n",
            "22     W        83           80          43     1\n",
            "23     X        74           76          63     0\n",
            "24     Y        68           73          41     1\n",
            "25     Z        88           84          47     1\n"
          ]
        }
      ]
    },
    {
      "cell_type": "code",
      "source": [
        "model=DecisionTreeClassifier()"
      ],
      "metadata": {
        "id": "YvwPP6YhcjNM"
      },
      "execution_count": null,
      "outputs": []
    },
    {
      "cell_type": "code",
      "source": [
        "target=df.Good\n",
        "feat_list=['Literacy','Cleanliness','Crime_Rate']\n",
        "feat=df[feat_list]\n",
        "print(feat)\n"
      ],
      "metadata": {
        "colab": {
          "base_uri": "https://localhost:8080/"
        },
        "id": "2_A_weZabQIU",
        "outputId": "bb60131f-1c08-49b9-fe47-a5c75cd83585"
      },
      "execution_count": null,
      "outputs": [
        {
          "output_type": "stream",
          "name": "stdout",
          "text": [
            "    Literacy  Cleanliness  Crime_Rate\n",
            "0         92           90          54\n",
            "1         56           67          50\n",
            "2         78           85          62\n",
            "3         63           72          48\n",
            "4         85           79          55\n",
            "5         71           68          58\n",
            "6         80           83          51\n",
            "7         67           74          47\n",
            "8         89           88          53\n",
            "9         58           65          49\n",
            "10        82           81          60\n",
            "11        75           78          57\n",
            "12        69           70          46\n",
            "13        87           86          52\n",
            "14        61           63          45\n",
            "15        93           91          56\n",
            "16        55           66          61\n",
            "17        76           77          59\n",
            "18        84           82          44\n",
            "19        70           69          50\n",
            "20        94           92          57\n",
            "21        59           64          52\n",
            "22        83           80          43\n",
            "23        74           76          63\n",
            "24        68           73          41\n",
            "25        88           84          47\n"
          ]
        }
      ]
    },
    {
      "cell_type": "code",
      "source": [
        "model.fit(feat,target)"
      ],
      "metadata": {
        "colab": {
          "base_uri": "https://localhost:8080/",
          "height": 75
        },
        "id": "wqbVmlhQdPKn",
        "outputId": "035e6550-edec-41a0-a8df-55fb78d7efb2"
      },
      "execution_count": null,
      "outputs": [
        {
          "output_type": "execute_result",
          "data": {
            "text/plain": [
              "DecisionTreeClassifier()"
            ],
            "text/html": [
              "<style>#sk-container-id-2 {color: black;background-color: white;}#sk-container-id-2 pre{padding: 0;}#sk-container-id-2 div.sk-toggleable {background-color: white;}#sk-container-id-2 label.sk-toggleable__label {cursor: pointer;display: block;width: 100%;margin-bottom: 0;padding: 0.3em;box-sizing: border-box;text-align: center;}#sk-container-id-2 label.sk-toggleable__label-arrow:before {content: \"▸\";float: left;margin-right: 0.25em;color: #696969;}#sk-container-id-2 label.sk-toggleable__label-arrow:hover:before {color: black;}#sk-container-id-2 div.sk-estimator:hover label.sk-toggleable__label-arrow:before {color: black;}#sk-container-id-2 div.sk-toggleable__content {max-height: 0;max-width: 0;overflow: hidden;text-align: left;background-color: #f0f8ff;}#sk-container-id-2 div.sk-toggleable__content pre {margin: 0.2em;color: black;border-radius: 0.25em;background-color: #f0f8ff;}#sk-container-id-2 input.sk-toggleable__control:checked~div.sk-toggleable__content {max-height: 200px;max-width: 100%;overflow: auto;}#sk-container-id-2 input.sk-toggleable__control:checked~label.sk-toggleable__label-arrow:before {content: \"▾\";}#sk-container-id-2 div.sk-estimator input.sk-toggleable__control:checked~label.sk-toggleable__label {background-color: #d4ebff;}#sk-container-id-2 div.sk-label input.sk-toggleable__control:checked~label.sk-toggleable__label {background-color: #d4ebff;}#sk-container-id-2 input.sk-hidden--visually {border: 0;clip: rect(1px 1px 1px 1px);clip: rect(1px, 1px, 1px, 1px);height: 1px;margin: -1px;overflow: hidden;padding: 0;position: absolute;width: 1px;}#sk-container-id-2 div.sk-estimator {font-family: monospace;background-color: #f0f8ff;border: 1px dotted black;border-radius: 0.25em;box-sizing: border-box;margin-bottom: 0.5em;}#sk-container-id-2 div.sk-estimator:hover {background-color: #d4ebff;}#sk-container-id-2 div.sk-parallel-item::after {content: \"\";width: 100%;border-bottom: 1px solid gray;flex-grow: 1;}#sk-container-id-2 div.sk-label:hover label.sk-toggleable__label {background-color: #d4ebff;}#sk-container-id-2 div.sk-serial::before {content: \"\";position: absolute;border-left: 1px solid gray;box-sizing: border-box;top: 0;bottom: 0;left: 50%;z-index: 0;}#sk-container-id-2 div.sk-serial {display: flex;flex-direction: column;align-items: center;background-color: white;padding-right: 0.2em;padding-left: 0.2em;position: relative;}#sk-container-id-2 div.sk-item {position: relative;z-index: 1;}#sk-container-id-2 div.sk-parallel {display: flex;align-items: stretch;justify-content: center;background-color: white;position: relative;}#sk-container-id-2 div.sk-item::before, #sk-container-id-2 div.sk-parallel-item::before {content: \"\";position: absolute;border-left: 1px solid gray;box-sizing: border-box;top: 0;bottom: 0;left: 50%;z-index: -1;}#sk-container-id-2 div.sk-parallel-item {display: flex;flex-direction: column;z-index: 1;position: relative;background-color: white;}#sk-container-id-2 div.sk-parallel-item:first-child::after {align-self: flex-end;width: 50%;}#sk-container-id-2 div.sk-parallel-item:last-child::after {align-self: flex-start;width: 50%;}#sk-container-id-2 div.sk-parallel-item:only-child::after {width: 0;}#sk-container-id-2 div.sk-dashed-wrapped {border: 1px dashed gray;margin: 0 0.4em 0.5em 0.4em;box-sizing: border-box;padding-bottom: 0.4em;background-color: white;}#sk-container-id-2 div.sk-label label {font-family: monospace;font-weight: bold;display: inline-block;line-height: 1.2em;}#sk-container-id-2 div.sk-label-container {text-align: center;}#sk-container-id-2 div.sk-container {/* jupyter's `normalize.less` sets `[hidden] { display: none; }` but bootstrap.min.css set `[hidden] { display: none !important; }` so we also need the `!important` here to be able to override the default hidden behavior on the sphinx rendered scikit-learn.org. See: https://github.com/scikit-learn/scikit-learn/issues/21755 */display: inline-block !important;position: relative;}#sk-container-id-2 div.sk-text-repr-fallback {display: none;}</style><div id=\"sk-container-id-2\" class=\"sk-top-container\"><div class=\"sk-text-repr-fallback\"><pre>DecisionTreeClassifier()</pre><b>In a Jupyter environment, please rerun this cell to show the HTML representation or trust the notebook. <br />On GitHub, the HTML representation is unable to render, please try loading this page with nbviewer.org.</b></div><div class=\"sk-container\" hidden><div class=\"sk-item\"><div class=\"sk-estimator sk-toggleable\"><input class=\"sk-toggleable__control sk-hidden--visually\" id=\"sk-estimator-id-2\" type=\"checkbox\" checked><label for=\"sk-estimator-id-2\" class=\"sk-toggleable__label sk-toggleable__label-arrow\">DecisionTreeClassifier</label><div class=\"sk-toggleable__content\"><pre>DecisionTreeClassifier()</pre></div></div></div></div></div>"
            ]
          },
          "metadata": {},
          "execution_count": 45
        }
      ]
    },
    {
      "cell_type": "code",
      "source": [
        "pred=model.predict([[90,90,56]])\n",
        "print(pred)"
      ],
      "metadata": {
        "colab": {
          "base_uri": "https://localhost:8080/"
        },
        "id": "73zSwAxefsjF",
        "outputId": "d650d5a2-696a-4166-b952-0ff3a97874fd"
      },
      "execution_count": null,
      "outputs": [
        {
          "output_type": "stream",
          "name": "stdout",
          "text": [
            "[0]\n"
          ]
        },
        {
          "output_type": "stream",
          "name": "stderr",
          "text": [
            "/usr/local/lib/python3.10/dist-packages/sklearn/base.py:439: UserWarning: X does not have valid feature names, but DecisionTreeClassifier was fitted with feature names\n",
            "  warnings.warn(\n"
          ]
        }
      ]
    },
    {
      "cell_type": "code",
      "source": [
        "if(pred==1):\n",
        "  print(\"Good\")\n",
        "else:\n",
        "  print(\"bad\")"
      ],
      "metadata": {
        "colab": {
          "base_uri": "https://localhost:8080/"
        },
        "id": "D_GVVcEvf_6w",
        "outputId": "f41df7ba-a385-49b7-d66a-39f15344bc7e"
      },
      "execution_count": null,
      "outputs": [
        {
          "output_type": "stream",
          "name": "stdout",
          "text": [
            "bad\n"
          ]
        }
      ]
    },
    {
      "cell_type": "code",
      "source": [
        "L=int(input(\"Literacy:\"))\n",
        "C=int(input(\"Cleanliness:\"))\n",
        "CR=int(input(\"Crime_Rate:\"))\n",
        "m=model.predict([[L,C,CR]])\n",
        "print(m)\n",
        "if(m==1):\n",
        "  print(\"Good\")\n",
        "else:\n",
        "  print(\"Bad\")"
      ],
      "metadata": {
        "colab": {
          "base_uri": "https://localhost:8080/"
        },
        "id": "rJ1wIf2igbvV",
        "outputId": "c0a69e07-b104-458e-cb3c-755338347b84"
      },
      "execution_count": null,
      "outputs": [
        {
          "output_type": "stream",
          "name": "stdout",
          "text": [
            "Literacy:78\n",
            "Cleanliness:89\n",
            "Crime_Rate:12\n",
            "[1]\n",
            "Good\n"
          ]
        },
        {
          "output_type": "stream",
          "name": "stderr",
          "text": [
            "/usr/local/lib/python3.10/dist-packages/sklearn/base.py:439: UserWarning: X does not have valid feature names, but DecisionTreeClassifier was fitted with feature names\n",
            "  warnings.warn(\n"
          ]
        }
      ]
    },
    {
      "cell_type": "code",
      "source": [],
      "metadata": {
        "id": "5Ygr0-BylhON"
      },
      "execution_count": null,
      "outputs": []
    }
  ]
}